{
 "cells": [
  {
   "cell_type": "markdown",
   "metadata": {},
   "source": [
    "# 5.2 Training challenges\n",
    "## 5.2.6 Wasserstein GAN\n",
    "- WGANのアルゴリズム\n",
    " - 参考：論文[2017]Wasserstein GANの8ページ：https://arxiv.org/pdf/1701.07875.pdf\n",
    "<img src=\"img/wgan-algorithm-2020-02-23 00-08-22.png\" width=700>"
   ]
  },
  {
   "cell_type": "markdown",
   "metadata": {},
   "source": [
    "- WGANはearth mover's distanceをloss functionとして使っている。\n",
    "- WGANのDiscriminatorのloss function\n",
    " - $\\max \\mathbb{E}_{x\\sim \\mathbb{P}_r}[f_w(x)]-\\mathbb{E}_{z\\sim p(z)}[f_w(g_\\theta(z))]$\n",
    "- WGANのGeneratorのloss function\n",
    " - $\\min \\mathbb{E}_{x\\sim \\mathbb{P}_r}[f_w(x)]-\\mathbb{E}_{z\\sim p(z)}[f_w(g_\\theta(z))]$\n",
    "- $f_w$はDiscriminator。\n",
    "- $w$はDiscriminatorのパラメータ。\n",
    "- $\\theta$はGeneratorのパラメータ。\n",
    " - だからGeneratorのloss functionは以下と等価。\n",
    " - $\\min -\\mathbb{E}_{z\\sim p(z)}[f_w(g_\\theta(z))]$"
   ]
  },
  {
   "cell_type": "markdown",
   "metadata": {},
   "source": [
    "### WGANの強み\n",
    "- clearer stopping criteria.\n",
    " - correlation between the Discriminator loss and the perceptual quality.\n",
    "- earth mover's distance, or Wasserstein distanceが、KL divergenceやJS divergenceより優れている。\n",
    "- min-maxやnon-saturating GANと比べて：\n",
    " - min-maxはmore explainable but doesn't work as well in practice.\n",
    " - non-saturatingバージョンはloses a lot of the mathematical guarantees but works much better.\n",
    " - Wassersteinバージョンはhas both theoretical grounding and largely superior performance.\n",
    "\n",
    "### WGANのポジション\n",
    "- WGAN (or the gradient penalty version, WGAN-GP) is widely used and has become the **de facto standard** in much of GAN research and practice.\n",
    " - NS-GANのポジションはtypically not used in practice anymore.\n",
    "- WGANのバリエーションWGAN-GP(gradient penalties)は、is commonly used in new academic papers."
   ]
  },
  {
   "cell_type": "markdown",
   "metadata": {},
   "source": [
    "### 復習：NS-GANのloss function\n",
    "- $J^D=E[log(D(x))]+E[log(1-D(G(z)))]$\n",
    "- $J^G=E[log(D(G(z)))]$\n",
    "- NS-GANが理論上に弱い原因：$J^G!=-J^D$\n",
    " - min-max GANやWGANは全部$J^G==-J^D$.こういう意味だと、WGANも実はmin-maxです。\n",
    " - $J^G==-J^D$条件があると、Nash Equilibrium（ナッシュ均衡）の理論保証ができる。"
   ]
  },
  {
   "cell_type": "markdown",
   "metadata": {},
   "source": [
    "### min-max式でGAN(MM-GAN)やWGANを表す\n",
    "- 参考：[2017]Improved Training of Wasserstein GANsの2 Background. https://arxiv.org/pdf/1704.00028.pdf\n",
    "- Generative adversarial networks\n",
    " - $\\min_{G}\\max_{D} \\mathbb{E}_{x\\sim \\mathbb{P}_r}[\\log(D(x))]+\\mathbb{E}_{\\tilde{x}\\sim \\mathbb{P}_g}[\\log(1-D(\\tilde{x}))]$\n",
    "- Wasserstein GANs.\n",
    " - $\\min_{G}\\max_{D} \\mathbb{E}_{x\\sim \\mathbb{P}_r}[D(x)]-\\mathbb{E}_{\\tilde{x}\\sim \\mathbb{P}_g}[D(\\tilde{x}))]$"
   ]
  },
  {
   "cell_type": "markdown",
   "metadata": {},
   "source": [
    "### WGAN-GP(gradient penalties)のアルゴリズム\n",
    "- 参考：[2017]Improved Training of Wasserstein GANsの4ページ目. https://arxiv.org/pdf/1704.00028.pdf\n",
    "- WGANアルゴリズムと比べると\n",
    " - Discriminatorのloss functionにgradient penaltyを追加。\n",
    " - OptimizerはRMSPropからAdamに変換。\n",
    " - Discriminatorパラメータのclippingがなくなった。\n",
    "<img src=\"img/wgan-gp-2020-02-23 13-22-04.png\" width=\"700\">"
   ]
  },
  {
   "cell_type": "markdown",
   "metadata": {},
   "source": [
    "# 5.4 Training hacks\n",
    "- Normalizations of inputs (standard in machine learning).\n",
    "- Gradient penalties.\n",
    "- Train the Discriminator more (Pretraining the Discriminator, Having more updates for the Discriminator per training cycle).\n",
    "- Soft and noisy labels (rather than the typical binary classification).\n",
    "\n",
    "## 5.4.2 Batch Normalization\n",
    "- 悪口：Recently batch norm has been shown to sometimes deliver bad results, especially in the Generator.\n",
    "- 上記のImproved Training of Wasserstein GANs論文から出た。\n",
    "\n",
    "## 5.4.5 Avoid sparse gradients\n",
    "- sparse gradientはつまりgradientベクターに0が多い。つまり情報の紛失が多い。\n",
    "- Discriminatorの学習はまだ大丈夫ですが、Generatorの学習にとってきつい。Generatorがこれらの情報をrecoverしないといけないかもしれないからだ。\n",
    "- ReLUじゃなく、Leaky ReLUを利用。\n",
    " - 原因はReLUを使うと、negative情報が全部なくなる。しかし、we might have to recover it later!\n",
    "- MaxPoolじゃなく、average poolingを利用。\n",
    " - MaxPool makes it much harder to use the transposed convolutions to recover the information.\n",
    " - average poolingも情報を紛失するが、average is more representative than the simple maximum.\n",
    " - MaxPoolの場合、maximum valueに対するgradientは1、他のvaluesに対するgradientは全部0（maximum以外のvalueを変えても影響ないから）。average poolingの場合は、みんなのgradientは一緒($\\frac{1}{N}$)だ。https://datascience.stackexchange.com/questions/11699/backprop-through-max-pooling-layers\n"
   ]
  }
 ],
 "metadata": {
  "kernelspec": {
   "display_name": "Python 3",
   "language": "python",
   "name": "python3"
  },
  "language_info": {
   "codemirror_mode": {
    "name": "ipython",
    "version": 3
   },
   "file_extension": ".py",
   "mimetype": "text/x-python",
   "name": "python",
   "nbconvert_exporter": "python",
   "pygments_lexer": "ipython3",
   "version": "3.6.9"
  }
 },
 "nbformat": 4,
 "nbformat_minor": 2
}
